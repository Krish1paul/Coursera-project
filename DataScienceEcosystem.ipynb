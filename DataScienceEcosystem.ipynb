{
 "cells": [
  {
   "cell_type": "markdown",
   "id": "7440f15f-2fde-409c-b7a8-2b73e5c45094",
   "metadata": {},
   "source": [
    "Data Science Tools and Ecosystem"
   ]
  },
  {
   "cell_type": "markdown",
   "id": "d9843cbe-d31c-4522-99eb-14b9f9e85c8a",
   "metadata": {},
   "source": [
    "In this notebook, Data Science Tools and Ecosystem are summarized."
   ]
  },
  {
   "cell_type": "markdown",
   "id": "80cdfbb5-155d-4dc6-94d5-9449c7dfc6a7",
   "metadata": {},
   "source": [
    "**Objective**\n",
    "* List popular languages for data Science\n",
    "* Some of the commonly used library by data scientists\n",
    "* Data science tools"
   ]
  },
  {
   "cell_type": "markdown",
   "id": "6c644226-923a-4cb8-ba53-095f7369cdfd",
   "metadata": {},
   "source": [
    "Some of the popular languages that Data Scientists use are:\n",
    "Python\n",
    "R\n",
    "SQL\n",
    "Scala\n",
    "Julia"
   ]
  },
  {
   "cell_type": "markdown",
   "id": "25439ddc-d505-4d80-b3a5-1ebc5583942f",
   "metadata": {},
   "source": [
    "Some of the commonly used libraries used by Data Scientists include:\n",
    "Numpy\n",
    "Panda\n",
    "Matplotlib\n",
    "Seaborn\n",
    "Scikit learn\n",
    "Scipy"
   ]
  },
  {
   "cell_type": "markdown",
   "id": "9450b17a-e748-41ed-95fe-9f5ad3358a24",
   "metadata": {},
   "source": [
    "Data Science Tools\n",
    "Apache hadoop\n",
    "Apache Spark\n",
    "Vs code \n",
    "Rstudio\n",
    "Anaconda navigator"
   ]
  },
  {
   "cell_type": "markdown",
   "id": "419a8c7e-b0c6-4a99-81ba-665e04e0124e",
   "metadata": {},
   "source": [
    "Below are a few examples of evaluating arithmetic expressions in Python"
   ]
  },
  {
   "cell_type": "code",
   "execution_count": 1,
   "id": "b1ada47d-ae57-4836-833d-25567ca5b72b",
   "metadata": {},
   "outputs": [
    {
     "data": {
      "text/plain": [
       "17"
      ]
     },
     "execution_count": 1,
     "metadata": {},
     "output_type": "execute_result"
    }
   ],
   "source": [
    "#This a simple arithmetic expression to mutiply then add integers\n",
    "(3*4)+5"
   ]
  },
  {
   "cell_type": "code",
   "execution_count": 2,
   "id": "56d3777d-42b7-4479-966c-a1559f8e63be",
   "metadata": {},
   "outputs": [
    {
     "name": "stdout",
     "output_type": "stream",
     "text": [
      "3 hours and 20 minutes\n"
     ]
    }
   ],
   "source": [
    "#This will convert 200 minutes to hours by diving by 60\n",
    "hours = 200 // 60  \n",
    "minutes_remaining = 200 % 60  \n",
    "print(f\"{hours} hours and {minutes_remaining} minutes\")"
   ]
  },
  {
   "cell_type": "markdown",
   "id": "fe632601-15c2-4301-b360-62ac2b49d25c",
   "metadata": {},
   "source": [
    "## Author\n",
    "Krish Paul"
   ]
  },
  {
   "cell_type": "code",
   "execution_count": null,
   "id": "8b82e004-d294-491a-82e9-de524657097e",
   "metadata": {},
   "outputs": [],
   "source": []
  }
 ],
 "metadata": {
  "kernelspec": {
   "display_name": "Python [conda env:base] *",
   "language": "python",
   "name": "conda-base-py"
  },
  "language_info": {
   "codemirror_mode": {
    "name": "ipython",
    "version": 3
   },
   "file_extension": ".py",
   "mimetype": "text/x-python",
   "name": "python",
   "nbconvert_exporter": "python",
   "pygments_lexer": "ipython3",
   "version": "3.12.7"
  }
 },
 "nbformat": 4,
 "nbformat_minor": 5
}
